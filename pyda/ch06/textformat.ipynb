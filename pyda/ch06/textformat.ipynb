{
  "cells": [
    {
      "cell_type": "code",
      "execution_count": 1,
      "metadata": {
        "collapsed": true,
        "pycharm": {}
      },
      "outputs": [],
      "source": [
        "# import numpy as np\n",
        "import pandas as pd"
      ]
    },
    {
      "cell_type": "code",
      "execution_count": 3,
      "metadata": {
        "pycharm": {}
      },
      "outputs": [
        {
          "name": "stderr",
          "output_type": "stream",
          "text": [
            "命令语法不正确。\n"
          ]
        }
      ],
      "source": [
        "!type data/ex1.csv"
      ]
    },
    {
      "cell_type": "code",
      "execution_count": 9,
      "metadata": {
        "pycharm": {}
      },
      "outputs": [
        {
          "name": "stdout",
          "output_type": "stream",
          "text": [
            "   a   b   c   d message\n0  1   2   3   4   hello\n1  5   6   7   8   world\n2  9  10  11  12     foo\n"
          ]
        }
      ],
      "source": [
        "df \u003d pd.read_csv(\u0027f:/works/python/ml/pyda/ch06/data/ex1.csv\u0027)\n",
        "print(df)"
      ]
    },
    {
      "cell_type": "code",
      "execution_count": 10,
      "metadata": {
        "pycharm": {}
      },
      "outputs": [
        {
          "name": "stdout",
          "output_type": "stream",
          "text": [
            "   a   b   c   d message\n0  1   2   3   4   hello\n1  5   6   7   8   world\n2  9  10  11  12     foo\n"
          ]
        },
        {
          "name": "stderr",
          "output_type": "stream",
          "text": [
            "f:\\Anaconda3\\lib\\site-packages\\ipykernel_launcher.py:1: FutureWarning: read_table is deprecated, use read_csv instead.\n  \"\"\"Entry point for launching an IPython kernel.\n"
          ]
        }
      ],
      "source": [
        "df \u003d pd.read_table(\u0027f:/works/python/ml/pyda/ch06/data/ex1.csv\u0027, sep\u003d\u0027,\u0027)\n",
        "print(df)"
      ]
    },
    {
      "cell_type": "code",
      "execution_count": 12,
      "metadata": {
        "pycharm": {}
      },
      "outputs": [
        {
          "name": "stdout",
          "output_type": "stream",
          "text": [
            "   0   1   2   3      4\n0  1   2   3   4  hello\n1  5   6   7   8  world\n2  9  10  11  12    foo\n"
          ]
        }
      ],
      "source": [
        "DATA_FILE \u003d \u0027f:/works/python/ml/pyda/ch06/data/ex2.csv\u0027\n",
        "df \u003d pd.read_csv(DATA_FILE, header\u003dNone)\n",
        "print(df)"
      ]
    },
    {
      "cell_type": "code",
      "execution_count": 13,
      "metadata": {
        "pycharm": {}
      },
      "outputs": [
        {
          "name": "stdout",
          "output_type": "stream",
          "text": [
            "   a   b   c   d message\n0  1   2   3   4   hello\n1  5   6   7   8   world\n2  9  10  11  12     foo\n"
          ]
        }
      ],
      "source": [
        "df \u003d pd.read_csv(DATA_FILE, names\u003d[\u0027a\u0027, \u0027b\u0027, \u0027c\u0027, \u0027d\u0027, \u0027message\u0027])\n",
        "print(df)"
      ]
    },
    {
      "cell_type": "code",
      "execution_count": 14,
      "metadata": {
        "pycharm": {}
      },
      "outputs": [
        {
          "name": "stdout",
          "output_type": "stream",
          "text": [
            "         a   b   c   d\nmessage               \nhello    1   2   3   4\nworld    5   6   7   8\nfoo      9  10  11  12\n"
          ]
        }
      ],
      "source": [
        "names \u003d \u0027a b c d message\u0027.split()\n",
        "df \u003d pd.read_csv(DATA_FILE, names\u003dnames, index_col\u003d\u0027message\u0027)\n",
        "print(df)"
      ]
    },
    {
      "cell_type": "code",
      "execution_count": 2,
      "metadata": {
        "pycharm": {}
      },
      "outputs": [
        {
          "name": "stdout",
          "output_type": "stream",
          "text": [
            "           value1  value2\nkey1 key2                \none  a          1       2\n     b          3       4\n     c          5       6\n     d          7       8\ntwo  a          9      10\n     b         11      12\n     c         13      14\n     d         15      16\n"
          ]
        }
      ],
      "source": [
        "DATA_DIR \u003d \u0027f:/works/python/ml/pyda/ch06/data/\u0027\n",
        "parsed \u003d pd.read_csv(DATA_DIR+\u0027csv_mindex.csv\u0027, index_col\u003d[\u0027key1\u0027, \u0027key2\u0027])\n",
        "print(parsed)"
      ]
    },
    {
      "cell_type": "code",
      "execution_count": 17,
      "metadata": {
        "pycharm": {}
      },
      "outputs": [
        {
          "name": "stdout",
          "output_type": "stream",
          "text": [
            "   a   b   c   d message\n0  1   2   3   4   hello\n1  5   6   7   8   world\n2  9  10  11  12     foo\n"
          ]
        }
      ],
      "source": [
        "df \u003d pd.read_csv(DATA_DIR+\u0027ex4.csv\u0027, skiprows\u003d[0,2,3])\n",
        "print(df)"
      ]
    },
    {
      "cell_type": "code",
      "execution_count": 18,
      "metadata": {
        "pycharm": {}
      },
      "outputs": [
        {
          "name": "stdout",
          "output_type": "stream",
          "text": [
            "  something  a   b     c   d message\n0       one  1   2   3.0   4     NaN\n1       two  5   6   NaN   8   world\n2     three  9  10  11.0  12     foo\n"
          ]
        }
      ],
      "source": [
        "result \u003d pd.read_csv(DATA_DIR+\u0027ex5.csv\u0027)\n",
        "print(result)"
      ]
    },
    {
      "cell_type": "code",
      "execution_count": 20,
      "metadata": {
        "pycharm": {}
      },
      "outputs": [
        {
          "name": "stdout",
          "output_type": "stream",
          "text": [
            "   something      a      b      c      d  message\n0      False  False  False  False  False     True\n1      False  False  False   True  False    False\n2      False  False  False  False  False    False\n"
          ]
        }
      ],
      "source": [
        "isnull \u003d pd.isnull(result)\n",
        "print(isnull)"
      ]
    },
    {
      "cell_type": "code",
      "execution_count": 21,
      "metadata": {
        "pycharm": {}
      },
      "outputs": [
        {
          "name": "stdout",
          "output_type": "stream",
          "text": [
            "  something  a   b     c   d message\n0       one  1   2   3.0   4     NaN\n1       two  5   6   NaN   8   world\n2     three  9  10  11.0  12     foo\n"
          ]
        }
      ],
      "source": [
        "result \u003d pd.read_csv(DATA_DIR+\u0027ex5.csv\u0027, na_values\u003d[\u0027NULL\u0027])\n",
        "print(result)"
      ]
    },
    {
      "cell_type": "code",
      "execution_count": 22,
      "metadata": {
        "pycharm": {}
      },
      "outputs": [
        {
          "name": "stdout",
          "output_type": "stream",
          "text": [
            "  something  a   b     c   d message\n0       one  1   2   3.0   4     NaN\n1       NaN  5   6   NaN   8   world\n2     three  9  10  11.0  12     NaN\n"
          ]
        }
      ],
      "source": [
        "sentinels \u003d {\u0027message\u0027: [\u0027foo\u0027, \u0027NA\u0027],\n",
        "             \u0027something\u0027: [\u0027two\u0027]}\n",
        "df \u003d pd.read_csv(DATA_DIR+\u0027ex5.csv\u0027, na_values\u003dsentinels)\n",
        "print(df)"
      ]
    },
    {
      "cell_type": "code",
      "execution_count": 4,
      "metadata": {
        "pycharm": {}
      },
      "outputs": [
        {
          "name": "stdout",
          "output_type": "stream",
          "text": [
            "           one       two     three      four key\n0     0.467976 -0.038649 -0.295344 -1.824726   L\n1    -0.358893  1.404453  0.704965 -0.200638   B\n2    -0.501840  0.659254 -0.421691 -0.057688   G\n3     0.204886  1.074134  1.388361 -0.982404   R\n4     0.354628 -0.133116  0.283763 -0.837063   Q\n5     1.817480  0.742273  0.419395 -2.251035   Q\n6    -0.776764  0.935518 -0.332872 -1.875641   U\n7    -0.913135  1.530624 -0.572657  0.477252   K\n8     0.358480 -0.497572 -0.367016  0.507702   S\n9    -1.740877 -1.160417 -1.637830  2.172201   G\n10    0.240564 -0.328249  1.252155  1.072796   8\n11    0.764018  1.165476 -0.639544  1.495258   R\n12    0.571035 -0.310537  0.582437 -0.298765   1\n13    2.317658  0.430710 -1.334216  0.199679   P\n14    1.547771 -1.119753 -2.277634  0.329586   J\n15   -1.310608  0.401719 -1.000987  1.156708   E\n16   -0.088496  0.634712  0.153324  0.415335   B\n17   -0.018663 -0.247487 -1.446522  0.750938   A\n18   -0.070127 -1.579097  0.120892  0.671432   F\n19   -0.194678 -0.492039  2.359605  0.319810   H\n20   -0.248618  0.868707 -0.492226 -0.717959   W\n21   -1.091549 -0.867110 -0.647760 -0.832562   C\n22    0.641404 -0.138822 -0.621963 -0.284839   C\n23    1.216408  0.992687  0.165162 -0.069619   V\n24   -0.564474  0.792832  0.747053  0.571675   I\n25    1.759879 -0.515666 -0.230481  1.362317   S\n26    0.126266  0.309281  0.382820 -0.239199   L\n27    1.334360 -0.100152 -0.840731 -0.643967   6\n28   -0.737620  0.278087 -0.053235 -0.950972   J\n29   -1.148486 -0.986292 -0.144963  0.124362   Y\n...        ...       ...       ...       ...  ..\n9970  0.633495 -0.186524  0.927627  0.143164   4\n9971  0.308636 -0.112857  0.762842 -1.072977   1\n9972 -1.627051 -0.978151  0.154745 -1.229037   Z\n9973  0.314847  0.097989  0.199608  0.955193   P\n9974  1.666907  0.992005  0.496128 -0.686391   S\n9975  0.010603  0.708540 -1.258711  0.226541   K\n9976  0.118693 -0.714455 -0.501342 -0.254764   K\n9977  0.302616 -2.011527 -0.628085  0.768827   H\n9978 -0.098572  1.769086 -0.215027 -0.053076   A\n9979 -0.019058  1.964994  0.738538 -0.883776   F\n9980 -0.595349  0.001781 -1.423355 -1.458477   M\n9981  1.392170 -1.396560 -1.425306 -0.847535   H\n9982 -0.896029 -0.152287  1.924483  0.365184   6\n9983 -2.274642 -0.901874  1.500352  0.996541   N\n9984 -0.301898  1.019906  1.102160  2.624526   I\n9985 -2.548389 -0.585374  1.496201 -0.718815   D\n9986 -0.064588  0.759292 -1.568415 -0.420933   E\n9987 -0.143365 -1.111760 -1.815581  0.435274   2\n9988 -0.070412 -1.055921  0.338017 -0.440763   X\n9989  0.649148  0.994273 -1.384227  0.485120   Q\n9990 -0.370769  0.404356 -1.051628 -1.050899   8\n9991 -0.409980  0.155627 -0.818990  1.277350   W\n9992  0.301214 -1.111203  0.668258  0.671922   A\n9993  1.821117  0.416445  0.173874  0.505118   X\n9994  0.068804  1.322759  0.802346  0.223618   H\n9995  2.311896 -0.417070 -1.409599 -0.515821   L\n9996 -0.479893 -0.650419  0.745152 -0.646038   E\n9997  0.523331  0.787112  0.486066  1.093156   K\n9998 -0.362559  0.598894 -1.843201  0.887292   G\n9999 -0.096376 -1.012999 -0.657431 -0.573315   0\n\n[10000 rows x 5 columns]\n"
          ]
        }
      ],
      "source": [
        "result \u003d pd.read_csv(DATA_DIR+\u0027ex6.csv\u0027)\n",
        "print(result)"
      ]
    },
    {
      "cell_type": "code",
      "execution_count": 6,
      "metadata": {
        "pycharm": {}
      },
      "outputs": [
        {
          "name": "stdout",
          "output_type": "stream",
          "text": [
            "        one       two     three      four key\n0  0.467976 -0.038649 -0.295344 -1.824726   L\n1 -0.358893  1.404453  0.704965 -0.200638   B\n2 -0.501840  0.659254 -0.421691 -0.057688   G\n3  0.204886  1.074134  1.388361 -0.982404   R\n4  0.354628 -0.133116  0.283763 -0.837063   Q\n"
          ]
        }
      ],
      "source": [
        "df \u003d pd.read_csv(DATA_DIR+\u0027ex6.csv\u0027, nrows\u003d5)\n",
        "print(df)"
      ]
    },
    {
      "cell_type": "code",
      "execution_count": 9,
      "metadata": {
        "pycharm": {}
      },
      "outputs": [],
      "source": [
        "chunker \u003d pd.read_csv(DATA_DIR+\u0027ex6.csv\u0027, chunksize\u003d1000)"
      ]
    },
    {
      "cell_type": "code",
      "execution_count": 10,
      "metadata": {
        "pycharm": {}
      },
      "outputs": [
        {
          "name": "stdout",
          "output_type": "stream",
          "text": [
            "E    368.0\nX    364.0\nL    346.0\nO    343.0\nQ    340.0\nM    338.0\nJ    337.0\nF    335.0\nK    334.0\nH    330.0\nV    328.0\nI    327.0\nU    326.0\nP    324.0\nD    320.0\nA    320.0\nR    318.0\nY    314.0\nG    308.0\nS    308.0\nN    306.0\nW    305.0\nT    304.0\nB    302.0\nZ    288.0\nC    286.0\n4    171.0\n6    166.0\n7    164.0\n8    162.0\n3    162.0\n5    157.0\n2    152.0\n0    151.0\n9    150.0\n1    146.0\ndtype: float64\n"
          ]
        }
      ],
      "source": [
        "tot \u003d pd.Series([])\n",
        "for piece in chunker:\n",
        "    tot \u003d tot.add(piece[\u0027key\u0027].value_counts(), fill_value\u003d0)\n",
        "tot \u003d tot.sort_values(ascending\u003dFalse)\n",
        "print(tot)"
      ]
    },
    {
      "cell_type": "code",
      "execution_count": 11,
      "metadata": {
        "pycharm": {}
      },
      "outputs": [
        {
          "data": {
            "text/plain": [
              "E    368.0\nX    364.0\nL    346.0\nO    343.0\nQ    340.0\nM    338.0\nJ    337.0\nF    335.0\nK    334.0\nH    330.0\ndtype: float64"
            ]
          },
          "execution_count": 11,
          "metadata": {},
          "output_type": "execute_result"
        }
      ],
      "source": [
        "tot[:10]"
      ]
    },
    {
      "cell_type": "code",
      "execution_count": 3,
      "metadata": {
        "pycharm": {}
      },
      "outputs": [
        {
          "name": "stdout",
          "output_type": "stream",
          "text": [
            "  something  a   b     c   d message\n0       one  1   2   3.0   4     NaN\n1       two  5   6   NaN   8   world\n2     three  9  10  11.0  12     foo\n"
          ]
        }
      ],
      "source": [
        "data \u003d pd.read_csv(DATA_DIR+\u0027ex5.csv\u0027)\n",
        "print(data)"
      ]
    },
    {
      "cell_type": "code",
      "execution_count": 5,
      "metadata": {
        "pycharm": {}
      },
      "outputs": [
        {
          "ename": "FileNotFoundError",
          "evalue": "[Errno 2] No such file or directory: \u0027pyda/data/out.csv\u0027",
          "traceback": [
            "\u001b[0;31m---------------------------------------------------------------------------\u001b[0m",
            "\u001b[0;31mFileNotFoundError\u001b[0m                         Traceback (most recent call last)",
            "\u001b[0;32m\u003cipython-input-5-09960deef053\u003e\u001b[0m in \u001b[0;36m\u003cmodule\u003e\u001b[0;34m()\u001b[0m\n\u001b[0;32m----\u003e 1\u001b[0;31m \u001b[0mdata\u001b[0m\u001b[0;34m.\u001b[0m\u001b[0mto_csv\u001b[0m\u001b[0;34m(\u001b[0m\u001b[0;34m\u0027pyda/data/out.csv\u0027\u001b[0m\u001b[0;34m)\u001b[0m\u001b[0;34m\u001b[0m\u001b[0;34m\u001b[0m\u001b[0m\n\u001b[0m",
            "\u001b[0;32mF:\\works\\python\\ml\\venv\\lib\\site-packages\\pandas\\core\\generic.py\u001b[0m in \u001b[0;36mto_csv\u001b[0;34m(self, path_or_buf, sep, na_rep, float_format, columns, header, index, index_label, mode, encoding, compression, quoting, quotechar, line_terminator, chunksize, tupleize_cols, date_format, doublequote, escapechar, decimal)\u001b[0m\n\u001b[1;32m   3018\u001b[0m                                  \u001b[0mdoublequote\u001b[0m\u001b[0;34m\u003d\u001b[0m\u001b[0mdoublequote\u001b[0m\u001b[0;34m,\u001b[0m\u001b[0;34m\u001b[0m\u001b[0;34m\u001b[0m\u001b[0m\n\u001b[1;32m   3019\u001b[0m                                  escapechar\u003descapechar, decimal\u003ddecimal)\n\u001b[0;32m-\u003e 3020\u001b[0;31m         \u001b[0mformatter\u001b[0m\u001b[0;34m.\u001b[0m\u001b[0msave\u001b[0m\u001b[0;34m(\u001b[0m\u001b[0;34m)\u001b[0m\u001b[0;34m\u001b[0m\u001b[0;34m\u001b[0m\u001b[0m\n\u001b[0m\u001b[1;32m   3021\u001b[0m \u001b[0;34m\u001b[0m\u001b[0m\n\u001b[1;32m   3022\u001b[0m         \u001b[0;32mif\u001b[0m \u001b[0mpath_or_buf\u001b[0m \u001b[0;32mis\u001b[0m \u001b[0;32mNone\u001b[0m\u001b[0;34m:\u001b[0m\u001b[0;34m\u001b[0m\u001b[0;34m\u001b[0m\u001b[0m\n",
            "\u001b[0;32mF:\\works\\python\\ml\\venv\\lib\\site-packages\\pandas\\io\\formats\\csvs.py\u001b[0m in \u001b[0;36msave\u001b[0;34m(self)\u001b[0m\n\u001b[1;32m    155\u001b[0m             f, handles \u003d _get_handle(self.path_or_buf, self.mode,\n\u001b[1;32m    156\u001b[0m                                      \u001b[0mencoding\u001b[0m\u001b[0;34m\u003d\u001b[0m\u001b[0mself\u001b[0m\u001b[0;34m.\u001b[0m\u001b[0mencoding\u001b[0m\u001b[0;34m,\u001b[0m\u001b[0;34m\u001b[0m\u001b[0;34m\u001b[0m\u001b[0m\n\u001b[0;32m--\u003e 157\u001b[0;31m                                      compression\u003dself.compression)\n\u001b[0m\u001b[1;32m    158\u001b[0m             \u001b[0mclose\u001b[0m \u001b[0;34m\u003d\u001b[0m \u001b[0;32mTrue\u001b[0m\u001b[0;34m\u001b[0m\u001b[0;34m\u001b[0m\u001b[0m\n\u001b[1;32m    159\u001b[0m \u001b[0;34m\u001b[0m\u001b[0m\n",
            "\u001b[0;32mF:\\works\\python\\ml\\venv\\lib\\site-packages\\pandas\\io\\common.py\u001b[0m in \u001b[0;36m_get_handle\u001b[0;34m(path_or_buf, mode, encoding, compression, memory_map, is_text)\u001b[0m\n\u001b[1;32m    422\u001b[0m         \u001b[0;32melif\u001b[0m \u001b[0mencoding\u001b[0m\u001b[0;34m:\u001b[0m\u001b[0;34m\u001b[0m\u001b[0;34m\u001b[0m\u001b[0m\n\u001b[1;32m    423\u001b[0m             \u001b[0;31m# Python 3 and encoding\u001b[0m\u001b[0;34m\u001b[0m\u001b[0;34m\u001b[0m\u001b[0;34m\u001b[0m\u001b[0m\n\u001b[0;32m--\u003e 424\u001b[0;31m             \u001b[0mf\u001b[0m \u001b[0;34m\u003d\u001b[0m \u001b[0mopen\u001b[0m\u001b[0;34m(\u001b[0m\u001b[0mpath_or_buf\u001b[0m\u001b[0;34m,\u001b[0m \u001b[0mmode\u001b[0m\u001b[0;34m,\u001b[0m \u001b[0mencoding\u001b[0m\u001b[0;34m\u003d\u001b[0m\u001b[0mencoding\u001b[0m\u001b[0;34m,\u001b[0m \u001b[0mnewline\u001b[0m\u001b[0;34m\u003d\u001b[0m\u001b[0;34m\"\"\u001b[0m\u001b[0;34m)\u001b[0m\u001b[0;34m\u001b[0m\u001b[0;34m\u001b[0m\u001b[0m\n\u001b[0m\u001b[1;32m    425\u001b[0m         \u001b[0;32melif\u001b[0m \u001b[0mis_text\u001b[0m\u001b[0;34m:\u001b[0m\u001b[0;34m\u001b[0m\u001b[0;34m\u001b[0m\u001b[0m\n\u001b[1;32m    426\u001b[0m             \u001b[0;31m# Python 3 and no explicit encoding\u001b[0m\u001b[0;34m\u001b[0m\u001b[0;34m\u001b[0m\u001b[0;34m\u001b[0m\u001b[0m\n",
            "\u001b[0;31mFileNotFoundError\u001b[0m: [Errno 2] No such file or directory: \u0027pyda/data/out.csv\u0027"
          ],
          "output_type": "error"
        }
      ],
      "source": "data.to_csv(\u0027pyda/data/out.csv\u0027)\n"
    },
    {
      "cell_type": "code",
      "execution_count": 1,
      "metadata": {
        "pycharm": {
          "is_executing": false
        }
      },
      "outputs": [],
      "source": "import pandas as pd\nimport sys\n\ndata \u003d pd.read_csv(\u0027pyda/data/ex5.csv\u0027)\n"
    },
    {
      "cell_type": "code",
      "execution_count": 2,
      "metadata": {
        "pycharm": {
          "is_executing": false
        }
      },
      "outputs": [
        {
          "name": "stdout",
          "text": [
            "  something  a   b     c   d message\n0       one  1   2   3.0   4     NaN\n1       two  5   6   NaN   8   world\n2     three  9  10  11.0  12     foo\n"
          ],
          "output_type": "stream"
        }
      ],
      "source": [
        "print(data)"
      ]
    },
    {
      "cell_type": "code",
      "execution_count": null,
      "metadata": {
        "pycharm": {}
      },
      "outputs": [
        {
          "name": "stdout",
          "output_type": "stream",
          "text": [
            "|something|a|b|c|d|message\r\n0|one|1|2|3.0|4|\r\n1|two|5|6||8|world\r\n2|three|9|10|11.0|12|foo\r\n"
          ]
        }
      ],
      "source": [
        "data.to_csv(\u0027pyda/data/out.csv\u0027, sep\u003d\u0027|\u0027)\n"
      ]
    },
    {
      "cell_type": "code",
      "execution_count": 3,
      "metadata": {
        "pycharm": {
          "is_executing": false
        }
      },
      "outputs": [
        {
          "name": "stdout",
          "text": [
            "|something|a|b|c|d|message\r\n0|one|1|2|3.0|4|\r\n1|two|5|6||8|world\r\n2|three|9|10|11.0|12|foo\r\n"
          ],
          "output_type": "stream"
        }
      ],
      "source": "data.to_csv(sys.stdout, sep\u003d\u0027|\u0027)"
    },
    {
      "cell_type": "code",
      "execution_count": 4,
      "outputs": [
        {
          "name": "stdout",
          "text": [
            "one,1,2,3.0,4,\r\ntwo,5,6,,8,world\r\nthree,9,10,11.0,12,foo\r\n"
          ],
          "output_type": "stream"
        }
      ],
      "source": "data.to_csv(sys.stdout, index\u003dFalse, header\u003dFalse)",
      "metadata": {
        "pycharm": {
          "metadata": false,
          "name": "#%%\n",
          "is_executing": false
        }
      }
    },
    {
      "cell_type": "code",
      "execution_count": 6,
      "outputs": [
        {
          "name": "stdout",
          "text": [
            "a,b,c\r\n1,2,3.0\r\n5,6,\r\n9,10,11.0\r\n"
          ],
          "output_type": "stream"
        }
      ],
      "source": "data.to_csv(sys.stdout, index\u003dFalse, columns\u003d[\u0027a\u0027, \u0027b\u0027, \u0027c\u0027])\n",
      "metadata": {
        "pycharm": {
          "metadata": false,
          "name": "#%%\n",
          "is_executing": false
        }
      }
    },
    {
      "cell_type": "code",
      "execution_count": 7,
      "outputs": [
        {
          "name": "stderr",
          "text": [
            "f:\\works\\python\\ml\\venv\\lib\\site-packages\\ipykernel_launcher.py:4: FutureWarning: The signature of `Series.to_csv` was aligned to that of `DataFrame.to_csv`, and argument \u0027header\u0027 will change its default value from False to True: please pass an explicit value to suppress this warning.\n  after removing the cwd from sys.path.\n"
          ],
          "output_type": "stream"
        }
      ],
      "source": "dates \u003d pd.date_range(\u00271/1/2000\u0027, periods\u003d7)\nimport numpy as np\nts \u003d pd.Series(np.arange(7), index\u003ddates)\nts.to_csv(\u0027pyda/data/tseries.csv\u0027)",
      "metadata": {
        "pycharm": {
          "metadata": false,
          "name": "#%%\n",
          "is_executing": false
        }
      }
    },
    {
      "cell_type": "code",
      "execution_count": 2,
      "outputs": [
        {
          "name": "stdout",
          "text": [
            "[\u0027a\u0027, \u0027b\u0027, \u0027c\u0027]\n[\u00271\u0027, \u00272\u0027, \u00273\u0027]\n[\u00271\u0027, \u00272\u0027, \u00273\u0027]\n"
          ],
          "output_type": "stream"
        }
      ],
      "source": "import csv\nf \u003d open(\u0027pyda/data/ex7.csv\u0027)\nreader \u003d csv.reader(f)\nfor line in reader:\n    print(line)",
      "metadata": {
        "pycharm": {
          "metadata": false,
          "name": "#%%\n",
          "is_executing": false
        }
      }
    },
    {
      "cell_type": "code",
      "execution_count": 3,
      "outputs": [],
      "source": "with open(\u0027pyda/data/ex7.csv\u0027) as f:\n    lines \u003d list(csv.reader(f))\n    ",
      "metadata": {
        "pycharm": {
          "metadata": false,
          "name": "#%%\n",
          "is_executing": false
        }
      }
    },
    {
      "cell_type": "code",
      "execution_count": 4,
      "outputs": [],
      "source": "header, values \u003d lines[0], lines[1:]",
      "metadata": {
        "pycharm": {
          "metadata": false,
          "name": "#%%\n",
          "is_executing": false
        }
      }
    },
    {
      "cell_type": "code",
      "execution_count": 5,
      "outputs": [
        {
          "data": {
            "text/plain": "{\u0027a\u0027: (\u00271\u0027, \u00271\u0027), \u0027b\u0027: (\u00272\u0027, \u00272\u0027), \u0027c\u0027: (\u00273\u0027, \u00273\u0027)}"
          },
          "metadata": {},
          "output_type": "execute_result",
          "execution_count": 5
        }
      ],
      "source": "data_dict \u003d {h: v for h, v in zip(header, zip(*values))}\ndata_dict",
      "metadata": {
        "pycharm": {
          "metadata": false,
          "name": "#%%\n",
          "is_executing": false
        }
      }
    },
    {
      "cell_type": "code",
      "execution_count": 6,
      "outputs": [
        {
          "data": {
            "text/plain": "{\u0027name\u0027: \u0027Wes\u0027,\n \u0027pet\u0027: None,\n \u0027places_lived\u0027: [\u0027United States\u0027, \u0027Spain\u0027, \u0027Germany\u0027],\n \u0027siblings\u0027: [{\u0027age\u0027: 30, \u0027name\u0027: \u0027Scott\u0027, \u0027pets\u0027: [\u0027Zeus\u0027, \u0027Zuko\u0027]},\n  {\u0027age\u0027: 38, \u0027name\u0027: \u0027Katie\u0027, \u0027pets\u0027: [\u0027Sixes\u0027, \u0027Stache\u0027, \u0027Cisco\u0027]}]}"
          },
          "metadata": {},
          "output_type": "execute_result",
          "execution_count": 6
        }
      ],
      "source": "obj \u003d \"\"\"\n{\"name\": \"Wes\",\n \"places_lived\": [\"United States\", \"Spain\", \"Germany\"],\n \"pet\": null,\n \"siblings\": [{\"name\": \"Scott\", \"age\": 30, \"pets\": [\"Zeus\", \"Zuko\"]},\n              {\"name\": \"Katie\", \"age\": 38,\n               \"pets\": [\"Sixes\", \"Stache\", \"Cisco\"]}]\n}\n\"\"\"\nimport json\nresult \u003d json.loads(obj)\nresult",
      "metadata": {
        "pycharm": {
          "metadata": false,
          "name": "#%%\n",
          "is_executing": false
        }
      }
    },
    {
      "cell_type": "code",
      "execution_count": 8,
      "outputs": [
        {
          "data": {
            "text/plain": "\u0027{\"name\": \"Wes\", \"places_lived\": [\"United States\", \"Spain\", \"Germany\"], \"pet\": null, \"siblings\": [{\"name\": \"Scott\", \"age\": 30, \"pets\": [\"Zeus\", \"Zuko\"]}, {\"name\": \"Katie\", \"age\": 38, \"pets\": [\"Sixes\", \"Stache\", \"Cisco\"]}]}\u0027"
          },
          "metadata": {},
          "output_type": "execute_result",
          "execution_count": 8
        }
      ],
      "source": "ajson \u003d json.dumps(result)\najson",
      "metadata": {
        "pycharm": {
          "metadata": false,
          "name": "#%%\n",
          "is_executing": false
        }
      }
    },
    {
      "cell_type": "code",
      "execution_count": 10,
      "outputs": [
        {
          "data": {
            "text/plain": "    name  age\n0  Scott   30\n1  Katie   38",
            "text/html": "\u003cdiv\u003e\n\u003cstyle scoped\u003e\n    .dataframe tbody tr th:only-of-type {\n        vertical-align: middle;\n    }\n\n    .dataframe tbody tr th {\n        vertical-align: top;\n    }\n\n    .dataframe thead th {\n        text-align: right;\n    }\n\u003c/style\u003e\n\u003ctable border\u003d\"1\" class\u003d\"dataframe\"\u003e\n  \u003cthead\u003e\n    \u003ctr style\u003d\"text-align: right;\"\u003e\n      \u003cth\u003e\u003c/th\u003e\n      \u003cth\u003ename\u003c/th\u003e\n      \u003cth\u003eage\u003c/th\u003e\n    \u003c/tr\u003e\n  \u003c/thead\u003e\n  \u003ctbody\u003e\n    \u003ctr\u003e\n      \u003cth\u003e0\u003c/th\u003e\n      \u003ctd\u003eScott\u003c/td\u003e\n      \u003ctd\u003e30\u003c/td\u003e\n    \u003c/tr\u003e\n    \u003ctr\u003e\n      \u003cth\u003e1\u003c/th\u003e\n      \u003ctd\u003eKatie\u003c/td\u003e\n      \u003ctd\u003e38\u003c/td\u003e\n    \u003c/tr\u003e\n  \u003c/tbody\u003e\n\u003c/table\u003e\n\u003c/div\u003e"
          },
          "metadata": {},
          "output_type": "execute_result",
          "execution_count": 10
        }
      ],
      "source": "import pandas as pd\nsiblings \u003d pd.DataFrame(result[\u0027siblings\u0027], columns\u003d[\u0027name\u0027, \u0027age\u0027])\nsiblings",
      "metadata": {
        "pycharm": {
          "metadata": false,
          "name": "#%%\n",
          "is_executing": false
        }
      }
    },
    {
      "cell_type": "code",
      "execution_count": 11,
      "outputs": [
        {
          "data": {
            "text/plain": "   a  b  c\n0  1  2  3\n1  4  5  6\n2  7  8  9",
            "text/html": "\u003cdiv\u003e\n\u003cstyle scoped\u003e\n    .dataframe tbody tr th:only-of-type {\n        vertical-align: middle;\n    }\n\n    .dataframe tbody tr th {\n        vertical-align: top;\n    }\n\n    .dataframe thead th {\n        text-align: right;\n    }\n\u003c/style\u003e\n\u003ctable border\u003d\"1\" class\u003d\"dataframe\"\u003e\n  \u003cthead\u003e\n    \u003ctr style\u003d\"text-align: right;\"\u003e\n      \u003cth\u003e\u003c/th\u003e\n      \u003cth\u003ea\u003c/th\u003e\n      \u003cth\u003eb\u003c/th\u003e\n      \u003cth\u003ec\u003c/th\u003e\n    \u003c/tr\u003e\n  \u003c/thead\u003e\n  \u003ctbody\u003e\n    \u003ctr\u003e\n      \u003cth\u003e0\u003c/th\u003e\n      \u003ctd\u003e1\u003c/td\u003e\n      \u003ctd\u003e2\u003c/td\u003e\n      \u003ctd\u003e3\u003c/td\u003e\n    \u003c/tr\u003e\n    \u003ctr\u003e\n      \u003cth\u003e1\u003c/th\u003e\n      \u003ctd\u003e4\u003c/td\u003e\n      \u003ctd\u003e5\u003c/td\u003e\n      \u003ctd\u003e6\u003c/td\u003e\n    \u003c/tr\u003e\n    \u003ctr\u003e\n      \u003cth\u003e2\u003c/th\u003e\n      \u003ctd\u003e7\u003c/td\u003e\n      \u003ctd\u003e8\u003c/td\u003e\n      \u003ctd\u003e9\u003c/td\u003e\n    \u003c/tr\u003e\n  \u003c/tbody\u003e\n\u003c/table\u003e\n\u003c/div\u003e"
          },
          "metadata": {},
          "output_type": "execute_result",
          "execution_count": 11
        }
      ],
      "source": "data \u003d pd.read_json(\u0027pyda/data/example.json\u0027)\ndata",
      "metadata": {
        "pycharm": {
          "metadata": false,
          "name": "#%%\n",
          "is_executing": false
        }
      }
    },
    {
      "cell_type": "code",
      "execution_count": 12,
      "outputs": [
        {
          "data": {
            "text/plain": "\u0027{\"a\":{\"0\":1,\"1\":4,\"2\":7},\"b\":{\"0\":2,\"1\":5,\"2\":8},\"c\":{\"0\":3,\"1\":6,\"2\":9}}\u0027"
          },
          "metadata": {},
          "output_type": "execute_result",
          "execution_count": 12
        }
      ],
      "source": "data.to_json()",
      "metadata": {
        "pycharm": {
          "metadata": false,
          "name": "#%%\n",
          "is_executing": false
        }
      }
    },
    {
      "cell_type": "code",
      "execution_count": null,
      "outputs": [],
      "source": "\n",
      "metadata": {
        "pycharm": {
          "metadata": false,
          "name": "#%%\n"
        }
      }
    }
  ],
  "metadata": {
    "kernelspec": {
      "display_name": "Python 2",
      "language": "python",
      "name": "python2"
    },
    "language_info": {
      "codemirror_mode": {
        "name": "ipython",
        "version": 2
      },
      "file_extension": ".py",
      "mimetype": "text/x-python",
      "name": "python",
      "nbconvert_exporter": "python",
      "pygments_lexer": "ipython2",
      "version": "2.7.6"
    }
  },
  "nbformat": 4,
  "nbformat_minor": 0
}